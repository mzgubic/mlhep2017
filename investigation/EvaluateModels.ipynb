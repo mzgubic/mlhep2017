{
 "cells": [
  {
   "cell_type": "code",
   "execution_count": 36,
   "metadata": {
    "collapsed": false
   },
   "outputs": [],
   "source": [
    "import numpy as np\n",
    "import pandas as pd\n",
    "import xgboost\n",
    "import time\n",
    "import os\n",
    "from sklearn.metrics import roc_auc_score\n",
    "from sklearn.model_selection import train_test_split\n",
    "from sklearn.ensemble import RandomForestClassifier\n",
    "\n",
    "from IPython.core.interactiveshell import InteractiveShell\n",
    "InteractiveShell.ast_node_interactivity = \"all\""
   ]
  },
  {
   "cell_type": "code",
   "execution_count": 3,
   "metadata": {
    "collapsed": false
   },
   "outputs": [],
   "source": [
    "ds_train = pd.read_hdf('../data/DS_2_train.hdf')"
   ]
  },
  {
   "cell_type": "code",
   "execution_count": 34,
   "metadata": {
    "collapsed": false
   },
   "outputs": [
    {
     "data": {
      "text/html": [
       "<div>\n",
       "<style>\n",
       "    .dataframe thead tr:only-child th {\n",
       "        text-align: right;\n",
       "    }\n",
       "\n",
       "    .dataframe thead th {\n",
       "        text-align: left;\n",
       "    }\n",
       "\n",
       "    .dataframe tbody tr th {\n",
       "        vertical-align: top;\n",
       "    }\n",
       "</style>\n",
       "<table border=\"1\" class=\"dataframe\">\n",
       "  <thead>\n",
       "    <tr style=\"text-align: right;\">\n",
       "      <th></th>\n",
       "      <th>index</th>\n",
       "      <th>event_id</th>\n",
       "      <th>X</th>\n",
       "      <th>Y</th>\n",
       "      <th>Z</th>\n",
       "      <th>TX</th>\n",
       "      <th>TY</th>\n",
       "      <th>chi2</th>\n",
       "      <th>signal</th>\n",
       "      <th>brick_number</th>\n",
       "    </tr>\n",
       "  </thead>\n",
       "  <tbody>\n",
       "    <tr>\n",
       "      <th>0</th>\n",
       "      <td>0</td>\n",
       "      <td>-999</td>\n",
       "      <td>66162.843750</td>\n",
       "      <td>65620.031250</td>\n",
       "      <td>0.0</td>\n",
       "      <td>0.166890</td>\n",
       "      <td>0.276674</td>\n",
       "      <td>2.988714</td>\n",
       "      <td>0.0</td>\n",
       "      <td>44</td>\n",
       "    </tr>\n",
       "    <tr>\n",
       "      <th>1</th>\n",
       "      <td>1</td>\n",
       "      <td>-999</td>\n",
       "      <td>43900.445312</td>\n",
       "      <td>67091.671875</td>\n",
       "      <td>0.0</td>\n",
       "      <td>-0.179967</td>\n",
       "      <td>-0.478795</td>\n",
       "      <td>1.901420</td>\n",
       "      <td>0.0</td>\n",
       "      <td>98</td>\n",
       "    </tr>\n",
       "    <tr>\n",
       "      <th>2</th>\n",
       "      <td>2</td>\n",
       "      <td>-999</td>\n",
       "      <td>37564.019531</td>\n",
       "      <td>26618.890625</td>\n",
       "      <td>55599.0</td>\n",
       "      <td>-0.267820</td>\n",
       "      <td>-0.282087</td>\n",
       "      <td>2.510245</td>\n",
       "      <td>0.0</td>\n",
       "      <td>64</td>\n",
       "    </tr>\n",
       "    <tr>\n",
       "      <th>3</th>\n",
       "      <td>3</td>\n",
       "      <td>-999</td>\n",
       "      <td>39380.027344</td>\n",
       "      <td>48135.425781</td>\n",
       "      <td>19395.0</td>\n",
       "      <td>0.265197</td>\n",
       "      <td>-0.577493</td>\n",
       "      <td>1.215219</td>\n",
       "      <td>0.0</td>\n",
       "      <td>63</td>\n",
       "    </tr>\n",
       "    <tr>\n",
       "      <th>4</th>\n",
       "      <td>4</td>\n",
       "      <td>-999</td>\n",
       "      <td>65040.781250</td>\n",
       "      <td>44018.468750</td>\n",
       "      <td>12930.0</td>\n",
       "      <td>-0.711161</td>\n",
       "      <td>-0.245592</td>\n",
       "      <td>2.973661</td>\n",
       "      <td>0.0</td>\n",
       "      <td>2</td>\n",
       "    </tr>\n",
       "  </tbody>\n",
       "</table>\n",
       "</div>"
      ],
      "text/plain": [
       "   index  event_id             X             Y        Z        TX        TY  \\\n",
       "0      0      -999  66162.843750  65620.031250      0.0  0.166890  0.276674   \n",
       "1      1      -999  43900.445312  67091.671875      0.0 -0.179967 -0.478795   \n",
       "2      2      -999  37564.019531  26618.890625  55599.0 -0.267820 -0.282087   \n",
       "3      3      -999  39380.027344  48135.425781  19395.0  0.265197 -0.577493   \n",
       "4      4      -999  65040.781250  44018.468750  12930.0 -0.711161 -0.245592   \n",
       "\n",
       "       chi2  signal  brick_number  \n",
       "0  2.988714     0.0            44  \n",
       "1  1.901420     0.0            98  \n",
       "2  2.510245     0.0            64  \n",
       "3  1.215219     0.0            63  \n",
       "4  2.973661     0.0             2  "
      ]
     },
     "execution_count": 34,
     "metadata": {},
     "output_type": "execute_result"
    },
    {
     "data": {
      "text/html": [
       "<div>\n",
       "<style>\n",
       "    .dataframe thead tr:only-child th {\n",
       "        text-align: right;\n",
       "    }\n",
       "\n",
       "    .dataframe thead th {\n",
       "        text-align: left;\n",
       "    }\n",
       "\n",
       "    .dataframe tbody tr th {\n",
       "        vertical-align: top;\n",
       "    }\n",
       "</style>\n",
       "<table border=\"1\" class=\"dataframe\">\n",
       "  <thead>\n",
       "    <tr style=\"text-align: right;\">\n",
       "      <th></th>\n",
       "      <th>index</th>\n",
       "      <th>event_id</th>\n",
       "      <th>signal</th>\n",
       "    </tr>\n",
       "  </thead>\n",
       "  <tbody>\n",
       "    <tr>\n",
       "      <th>0</th>\n",
       "      <td>0</td>\n",
       "      <td>-999</td>\n",
       "      <td>0.0</td>\n",
       "    </tr>\n",
       "    <tr>\n",
       "      <th>1</th>\n",
       "      <td>1</td>\n",
       "      <td>-999</td>\n",
       "      <td>0.0</td>\n",
       "    </tr>\n",
       "    <tr>\n",
       "      <th>2</th>\n",
       "      <td>2</td>\n",
       "      <td>-999</td>\n",
       "      <td>0.0</td>\n",
       "    </tr>\n",
       "    <tr>\n",
       "      <th>3</th>\n",
       "      <td>3</td>\n",
       "      <td>-999</td>\n",
       "      <td>0.0</td>\n",
       "    </tr>\n",
       "    <tr>\n",
       "      <th>4</th>\n",
       "      <td>4</td>\n",
       "      <td>-999</td>\n",
       "      <td>0.0</td>\n",
       "    </tr>\n",
       "  </tbody>\n",
       "</table>\n",
       "</div>"
      ],
      "text/plain": [
       "   index  event_id  signal\n",
       "0      0      -999     0.0\n",
       "1      1      -999     0.0\n",
       "2      2      -999     0.0\n",
       "3      3      -999     0.0\n",
       "4      4      -999     0.0"
      ]
     },
     "execution_count": 34,
     "metadata": {},
     "output_type": "execute_result"
    }
   ],
   "source": [
    "ds_train.head()\n",
    "ds_train[['index', 'event_id', 'signal']].head()"
   ]
  },
  {
   "cell_type": "code",
   "execution_count": 21,
   "metadata": {
    "collapsed": false
   },
   "outputs": [
    {
     "data": {
      "text/html": [
       "<div>\n",
       "<style>\n",
       "    .dataframe thead tr:only-child th {\n",
       "        text-align: right;\n",
       "    }\n",
       "\n",
       "    .dataframe thead th {\n",
       "        text-align: left;\n",
       "    }\n",
       "\n",
       "    .dataframe tbody tr th {\n",
       "        vertical-align: top;\n",
       "    }\n",
       "</style>\n",
       "<table border=\"1\" class=\"dataframe\">\n",
       "  <thead>\n",
       "    <tr style=\"text-align: right;\">\n",
       "      <th></th>\n",
       "      <th>X</th>\n",
       "      <th>Y</th>\n",
       "      <th>Z</th>\n",
       "      <th>TX</th>\n",
       "      <th>TY</th>\n",
       "      <th>chi2</th>\n",
       "    </tr>\n",
       "  </thead>\n",
       "  <tbody>\n",
       "    <tr>\n",
       "      <th>0</th>\n",
       "      <td>66162.843750</td>\n",
       "      <td>65620.031250</td>\n",
       "      <td>0.0</td>\n",
       "      <td>0.166890</td>\n",
       "      <td>0.276674</td>\n",
       "      <td>2.988714</td>\n",
       "    </tr>\n",
       "    <tr>\n",
       "      <th>2</th>\n",
       "      <td>37564.019531</td>\n",
       "      <td>26618.890625</td>\n",
       "      <td>55599.0</td>\n",
       "      <td>-0.267820</td>\n",
       "      <td>-0.282087</td>\n",
       "      <td>2.510245</td>\n",
       "    </tr>\n",
       "    <tr>\n",
       "      <th>3</th>\n",
       "      <td>39380.027344</td>\n",
       "      <td>48135.425781</td>\n",
       "      <td>19395.0</td>\n",
       "      <td>0.265197</td>\n",
       "      <td>-0.577493</td>\n",
       "      <td>1.215219</td>\n",
       "    </tr>\n",
       "    <tr>\n",
       "      <th>4</th>\n",
       "      <td>65040.781250</td>\n",
       "      <td>44018.468750</td>\n",
       "      <td>12930.0</td>\n",
       "      <td>-0.711161</td>\n",
       "      <td>-0.245592</td>\n",
       "      <td>2.973661</td>\n",
       "    </tr>\n",
       "    <tr>\n",
       "      <th>5</th>\n",
       "      <td>55179.875000</td>\n",
       "      <td>24942.843750</td>\n",
       "      <td>41376.0</td>\n",
       "      <td>-0.173363</td>\n",
       "      <td>-0.318434</td>\n",
       "      <td>2.488240</td>\n",
       "    </tr>\n",
       "  </tbody>\n",
       "</table>\n",
       "</div>"
      ],
      "text/plain": [
       "              X             Y        Z        TX        TY      chi2\n",
       "0  66162.843750  65620.031250      0.0  0.166890  0.276674  2.988714\n",
       "2  37564.019531  26618.890625  55599.0 -0.267820 -0.282087  2.510245\n",
       "3  39380.027344  48135.425781  19395.0  0.265197 -0.577493  1.215219\n",
       "4  65040.781250  44018.468750  12930.0 -0.711161 -0.245592  2.973661\n",
       "5  55179.875000  24942.843750  41376.0 -0.173363 -0.318434  2.488240"
      ]
     },
     "execution_count": 21,
     "metadata": {},
     "output_type": "execute_result"
    },
    {
     "data": {
      "text/html": [
       "<div>\n",
       "<style>\n",
       "    .dataframe thead tr:only-child th {\n",
       "        text-align: right;\n",
       "    }\n",
       "\n",
       "    .dataframe thead th {\n",
       "        text-align: left;\n",
       "    }\n",
       "\n",
       "    .dataframe tbody tr th {\n",
       "        vertical-align: top;\n",
       "    }\n",
       "</style>\n",
       "<table border=\"1\" class=\"dataframe\">\n",
       "  <thead>\n",
       "    <tr style=\"text-align: right;\">\n",
       "      <th></th>\n",
       "      <th>X</th>\n",
       "      <th>Y</th>\n",
       "      <th>Z</th>\n",
       "      <th>TX</th>\n",
       "      <th>TY</th>\n",
       "      <th>chi2</th>\n",
       "    </tr>\n",
       "  </thead>\n",
       "  <tbody>\n",
       "    <tr>\n",
       "      <th>1</th>\n",
       "      <td>43900.445312</td>\n",
       "      <td>67091.671875</td>\n",
       "      <td>0.0</td>\n",
       "      <td>-0.179967</td>\n",
       "      <td>-0.478795</td>\n",
       "      <td>1.901420</td>\n",
       "    </tr>\n",
       "    <tr>\n",
       "      <th>13</th>\n",
       "      <td>33727.878906</td>\n",
       "      <td>55500.921875</td>\n",
       "      <td>46548.0</td>\n",
       "      <td>0.252502</td>\n",
       "      <td>0.468155</td>\n",
       "      <td>0.766934</td>\n",
       "    </tr>\n",
       "    <tr>\n",
       "      <th>23</th>\n",
       "      <td>30087.265625</td>\n",
       "      <td>21714.402344</td>\n",
       "      <td>6465.0</td>\n",
       "      <td>-0.493513</td>\n",
       "      <td>-0.164602</td>\n",
       "      <td>2.835666</td>\n",
       "    </tr>\n",
       "    <tr>\n",
       "      <th>39</th>\n",
       "      <td>70787.812500</td>\n",
       "      <td>69830.609375</td>\n",
       "      <td>31032.0</td>\n",
       "      <td>0.322359</td>\n",
       "      <td>0.117708</td>\n",
       "      <td>2.835725</td>\n",
       "    </tr>\n",
       "    <tr>\n",
       "      <th>49</th>\n",
       "      <td>37411.660156</td>\n",
       "      <td>56671.851562</td>\n",
       "      <td>49134.0</td>\n",
       "      <td>0.124289</td>\n",
       "      <td>-0.016574</td>\n",
       "      <td>1.369881</td>\n",
       "    </tr>\n",
       "  </tbody>\n",
       "</table>\n",
       "</div>"
      ],
      "text/plain": [
       "               X             Y        Z        TX        TY      chi2\n",
       "1   43900.445312  67091.671875      0.0 -0.179967 -0.478795  1.901420\n",
       "13  33727.878906  55500.921875  46548.0  0.252502  0.468155  0.766934\n",
       "23  30087.265625  21714.402344   6465.0 -0.493513 -0.164602  2.835666\n",
       "39  70787.812500  69830.609375  31032.0  0.322359  0.117708  2.835725\n",
       "49  37411.660156  56671.851562  49134.0  0.124289 -0.016574  1.369881"
      ]
     },
     "execution_count": 21,
     "metadata": {},
     "output_type": "execute_result"
    },
    {
     "data": {
      "text/plain": [
       "0    0.0\n",
       "2    0.0\n",
       "3    0.0\n",
       "4    0.0\n",
       "5    0.0\n",
       "Name: signal, dtype: float64"
      ]
     },
     "execution_count": 21,
     "metadata": {},
     "output_type": "execute_result"
    },
    {
     "data": {
      "text/plain": [
       "1     0.0\n",
       "13    0.0\n",
       "23    0.0\n",
       "39    0.0\n",
       "49    1.0\n",
       "Name: signal, dtype: float64"
      ]
     },
     "execution_count": 21,
     "metadata": {},
     "output_type": "execute_result"
    }
   ],
   "source": [
    "X_full = ds_train.copy()\n",
    "X_full = X_full.drop('index', axis=1).drop('event_id', axis=1).drop('signal', axis=1)\n",
    "\n",
    "X_train = X_full[X_full.brick_number < 90].drop('brick_number', axis=1)\n",
    "X_test = X_full[X_full.brick_number > 89].drop('brick_number', axis=1)\n",
    "Y_train = ds_train[ds_train.brick_number < 90]['signal']\n",
    "Y_test = ds_train[ds_train.brick_number > 89]['signal']\n",
    "\n",
    "\n",
    "X_train.head()\n",
    "X_test.head()\n",
    "Y_train.head()\n",
    "Y_test.head()"
   ]
  },
  {
   "cell_type": "code",
   "execution_count": 37,
   "metadata": {
    "collapsed": false
   },
   "outputs": [
    {
     "data": {
      "text/plain": [
       "RandomForestClassifier(bootstrap=True, class_weight=None, criterion='gini',\n",
       "            max_depth=3, max_features='auto', max_leaf_nodes=None,\n",
       "            min_impurity_split=1e-07, min_samples_leaf=1,\n",
       "            min_samples_split=2, min_weight_fraction_leaf=0.0,\n",
       "            n_estimators=8, n_jobs=8, oob_score=False, random_state=None,\n",
       "            verbose=0, warm_start=False)"
      ]
     },
     "execution_count": 37,
     "metadata": {},
     "output_type": "execute_result"
    },
    {
     "name": "stdout",
     "output_type": "stream",
     "text": [
      "n_est: 8\n",
      "time taken: 26.4734950066\n",
      "train score: 0.906929316083\n",
      "test score: 0.906485783433\n"
     ]
    },
    {
     "data": {
      "text/plain": [
       "0"
      ]
     },
     "execution_count": 37,
     "metadata": {},
     "output_type": "execute_result"
    }
   ],
   "source": [
    "n_est = 8\n",
    "\n",
    "#model = xgboost.XGBClassifier(n_estimators=n_est, nthread=8, max_depth=2)#, reg_alpha=0, reg_lambda=0.5)\n",
    "#model = GradientBoostingClassifier(n_estimators=n_est, max_depth=4, loss='exponential')\n",
    "model = RandomForestClassifier(n_estimators=n_est, max_depth=3, n_jobs=8)\n",
    "#model = xgboost.XGBClassifier(n_estimators=n_est, nthread=8, max_depth=3)\n",
    "\n",
    "t1= time.time()\n",
    "model.fit(X_train, Y_train)\n",
    "pred_train = model.predict_proba(X_train)[:,1]\n",
    "pred_test = model.predict_proba(X_test)[:,1]\n",
    "print 'n_est:', n_est\n",
    "print 'time taken:', time.time() - t1\n",
    "print 'train score:', roc_auc_score(Y_train, pred_train)\n",
    "print 'test score:', roc_auc_score(Y_test, pred_test)\n",
    "os.system('say \"dataset validated\"')"
   ]
  },
  {
   "cell_type": "code",
   "execution_count": 45,
   "metadata": {
    "collapsed": false
   },
   "outputs": [
    {
     "name": "stdout",
     "output_type": "stream",
     "text": [
      "1.79769313486e+308\n",
      "3.40282e+38\n",
      "65504.0\n"
     ]
    }
   ],
   "source": [
    "for arg in [np.float64, np.float32, np.float16]:\n",
    "    print np.finfo(arg).max"
   ]
  },
  {
   "cell_type": "code",
   "execution_count": null,
   "metadata": {
    "collapsed": true
   },
   "outputs": [],
   "source": []
  }
 ],
 "metadata": {
  "kernelspec": {
   "display_name": "Python 2",
   "language": "python",
   "name": "python2"
  },
  "language_info": {
   "codemirror_mode": {
    "name": "ipython",
    "version": 2
   },
   "file_extension": ".py",
   "mimetype": "text/x-python",
   "name": "python",
   "nbconvert_exporter": "python",
   "pygments_lexer": "ipython2",
   "version": "2.7.13"
  }
 },
 "nbformat": 4,
 "nbformat_minor": 2
}
